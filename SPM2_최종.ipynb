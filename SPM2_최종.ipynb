{
  "nbformat": 4,
  "nbformat_minor": 0,
  "metadata": {
    "colab": {
      "name": "다시_빠르게_discussion.ipynb의 사본의 사본",
      "provenance": [],
      "machine_shape": "hm"
    },
    "kernelspec": {
      "name": "python3",
      "display_name": "Python 3"
    },
    "accelerator": "GPU"
  },
  "cells": [
    {
      "cell_type": "code",
      "metadata": {
        "id": "cyctxOGRWsIs",
        "colab_type": "code",
        "outputId": "c872fcd9-b290-402d-c1ee-db01b4e49af4",
        "colab": {
          "base_uri": "https://localhost:8080/",
          "height": 449
        }
      },
      "source": [
        "# 캐글 API 버전 갱신을 위한 작업... 반드시 버전이 1.5.6 이어야 함\n",
        "\n",
        "!ls -lha kaggle.json\n",
        "\n",
        "!pip uninstall -y kaggle\n",
        "!pip install --upgrade pip\n",
        "!pip install kaggle==1.5.6"
      ],
      "execution_count": 1,
      "outputs": [
        {
          "output_type": "stream",
          "text": [
            "-rw-r--r-- 1 root root 67 Dec 14 20:41 kaggle.json\n",
            "Uninstalling kaggle-1.5.6:\n",
            "  Successfully uninstalled kaggle-1.5.6\n",
            "Requirement already up-to-date: pip in /usr/local/lib/python3.6/dist-packages (19.3.1)\n",
            "Collecting kaggle==1.5.6\n",
            "\u001b[?25l  Downloading https://files.pythonhosted.org/packages/62/ab/bb20f9b9e24f9a6250f95a432f8d9a7d745f8d24039d7a5a6eaadb7783ba/kaggle-1.5.6.tar.gz (58kB)\n",
            "\u001b[K     |████████████████████████████████| 61kB 2.0MB/s \n",
            "\u001b[?25hRequirement already satisfied: urllib3<1.25,>=1.21.1 in /usr/local/lib/python3.6/dist-packages (from kaggle==1.5.6) (1.24.3)\n",
            "Requirement already satisfied: six>=1.10 in /usr/local/lib/python3.6/dist-packages (from kaggle==1.5.6) (1.12.0)\n",
            "Requirement already satisfied: certifi in /usr/local/lib/python3.6/dist-packages (from kaggle==1.5.6) (2019.11.28)\n",
            "Requirement already satisfied: python-dateutil in /usr/local/lib/python3.6/dist-packages (from kaggle==1.5.6) (2.6.1)\n",
            "Requirement already satisfied: requests in /usr/local/lib/python3.6/dist-packages (from kaggle==1.5.6) (2.21.0)\n",
            "Requirement already satisfied: tqdm in /usr/local/lib/python3.6/dist-packages (from kaggle==1.5.6) (4.28.1)\n",
            "Requirement already satisfied: python-slugify in /usr/local/lib/python3.6/dist-packages (from kaggle==1.5.6) (4.0.0)\n",
            "Requirement already satisfied: idna<2.9,>=2.5 in /usr/local/lib/python3.6/dist-packages (from requests->kaggle==1.5.6) (2.8)\n",
            "Requirement already satisfied: chardet<3.1.0,>=3.0.2 in /usr/local/lib/python3.6/dist-packages (from requests->kaggle==1.5.6) (3.0.4)\n",
            "Requirement already satisfied: text-unidecode>=1.3 in /usr/local/lib/python3.6/dist-packages (from python-slugify->kaggle==1.5.6) (1.3)\n",
            "Building wheels for collected packages: kaggle\n",
            "  Building wheel for kaggle (setup.py) ... \u001b[?25l\u001b[?25hdone\n",
            "  Created wheel for kaggle: filename=kaggle-1.5.6-cp36-none-any.whl size=72859 sha256=f1d959813bd3fa03a3f24cac95337082ae80667c608a18727ca0b3eebc192c25\n",
            "  Stored in directory: /root/.cache/pip/wheels/57/4e/e8/bb28d035162fb8f17f8ca5d42c3230e284c6aa565b42b72674\n",
            "Successfully built kaggle\n",
            "Installing collected packages: kaggle\n",
            "Successfully installed kaggle-1.5.6\n"
          ],
          "name": "stdout"
        }
      ]
    },
    {
      "cell_type": "code",
      "metadata": {
        "id": "Voph5WVS51fg",
        "colab_type": "code",
        "outputId": "c9786c1b-ccde-40b8-e496-e435c8c3830a",
        "colab": {
          "base_uri": "https://localhost:8080/",
          "height": 35
        }
      },
      "source": [
        "# 캐글연동을 위한 토큰 입력\n",
        "! mkdir -p ~/.kaggle\n",
        "! cp kaggle.json ~/.kaggle/\n",
        "! chmod 600 ~/.kaggle/kaggle.json\n",
        "\n",
        "\n",
        "# 버전이 1.5.6 이 아니면, 진행할 수 없다\n",
        "! kaggle -v\n"
      ],
      "execution_count": 2,
      "outputs": [
        {
          "output_type": "stream",
          "text": [
            "Kaggle API 1.5.6\n"
          ],
          "name": "stdout"
        }
      ]
    },
    {
      "cell_type": "code",
      "metadata": {
        "id": "xTDyvEcX51h7",
        "colab_type": "code",
        "outputId": "ec43b678-a1fb-421d-94ff-5818c0f9338e",
        "colab": {
          "base_uri": "https://localhost:8080/",
          "height": 71
        }
      },
      "source": [
        "\n",
        "! kaggle competitions download -c 2019-ml-finalproject\n",
        "\n",
        "import zipfile\n",
        "import os\n",
        "os.mkdir('/content/input')"
      ],
      "execution_count": 3,
      "outputs": [
        {
          "output_type": "stream",
          "text": [
            "Downloading 2019-ml-finalproject.zip to /content\n",
            " 54% 35.0M/65.0M [00:00<00:00, 108MB/s] \n",
            "100% 65.0M/65.0M [00:00<00:00, 222MB/s]\n"
          ],
          "name": "stdout"
        }
      ]
    },
    {
      "cell_type": "code",
      "metadata": {
        "id": "q7apv3lD51j6",
        "colab_type": "code",
        "colab": {}
      },
      "source": [
        "zip_ref = zipfile.ZipFile(\"/content/2019-ml-finalproject.zip\", 'r')\n",
        "zip_ref.extractall(\"/content/input\")\n",
        "zip_ref.close()"
      ],
      "execution_count": 0,
      "outputs": []
    },
    {
      "cell_type": "code",
      "metadata": {
        "id": "kxxeT6XA51l7",
        "colab_type": "code",
        "outputId": "1d7f3f3f-06de-42cb-b2e2-378e5e7561b7",
        "colab": {
          "base_uri": "https://localhost:8080/",
          "height": 413
        }
      },
      "source": [
        "! yes | pip3 uninstall opencv-python\n",
        "! yes | pip3 uninstall opencv-contrib-python\n",
        "! yes | pip3 install opencv-python==3.4.2.16\n",
        "! yes | pip3 install opencv-contrib-python==3.4.2.16"
      ],
      "execution_count": 5,
      "outputs": [
        {
          "output_type": "stream",
          "text": [
            "Uninstalling opencv-python-4.1.2.30:\n",
            "  Would remove:\n",
            "    /usr/local/lib/python3.6/dist-packages/cv2/*\n",
            "    /usr/local/lib/python3.6/dist-packages/opencv_python-4.1.2.30.dist-info/*\n",
            "Proceed (y/n)?   Successfully uninstalled opencv-python-4.1.2.30\n",
            "Uninstalling opencv-contrib-python-4.1.2.30:\n",
            "  Would remove:\n",
            "    /usr/local/lib/python3.6/dist-packages/opencv_contrib_python-4.1.2.30.dist-info/*\n",
            "Proceed (y/n)?   Successfully uninstalled opencv-contrib-python-4.1.2.30\n",
            "Collecting opencv-python==3.4.2.16\n",
            "\u001b[?25l  Downloading https://files.pythonhosted.org/packages/fa/7d/5042b668a8ed41d2a80b8c172f5efcd572e3c046c75ae029407e19b7fc68/opencv_python-3.4.2.16-cp36-cp36m-manylinux1_x86_64.whl (25.0MB)\n",
            "\u001b[K     |████████████████████████████████| 25.0MB 1.4MB/s \n",
            "\u001b[?25hRequirement already satisfied: numpy>=1.11.3 in /usr/local/lib/python3.6/dist-packages (from opencv-python==3.4.2.16) (1.17.4)\n",
            "\u001b[31mERROR: albumentations 0.1.12 has requirement imgaug<0.2.7,>=0.2.5, but you'll have imgaug 0.2.9 which is incompatible.\u001b[0m\n",
            "Installing collected packages: opencv-python\n",
            "Successfully installed opencv-python-3.4.2.16\n",
            "Collecting opencv-contrib-python==3.4.2.16\n",
            "\u001b[?25l  Downloading https://files.pythonhosted.org/packages/08/f1/66330f4042c4fb3b2d77a159db8e8916d9cdecc29bc8c1f56bc7f8a9bec9/opencv_contrib_python-3.4.2.16-cp36-cp36m-manylinux1_x86_64.whl (30.6MB)\n",
            "\u001b[K     |████████████████████████████████| 30.6MB 1.5MB/s \n",
            "\u001b[?25hRequirement already satisfied: numpy>=1.11.3 in /usr/local/lib/python3.6/dist-packages (from opencv-contrib-python==3.4.2.16) (1.17.4)\n",
            "Installing collected packages: opencv-contrib-python\n",
            "Successfully installed opencv-contrib-python-3.4.2.16\n"
          ],
          "name": "stdout"
        }
      ]
    },
    {
      "cell_type": "markdown",
      "metadata": {
        "id": "6DuImDpr7-JR",
        "colab_type": "text"
      },
      "source": [
        "###############################################################################################################"
      ]
    },
    {
      "cell_type": "code",
      "metadata": {
        "id": "2zUvmrIQAgY8",
        "colab_type": "code",
        "outputId": "9e59501d-467d-48d3-b0d3-e1f8ad414dbe",
        "colab": {
          "base_uri": "https://localhost:8080/",
          "height": 323
        }
      },
      "source": [
        "!pip install kmc2"
      ],
      "execution_count": 7,
      "outputs": [
        {
          "output_type": "stream",
          "text": [
            "Collecting kmc2\n",
            "\u001b[?25l  Downloading https://files.pythonhosted.org/packages/b6/a2/42b2dd4fa0c425912c03222dd443f1d6aceed410a29467d1e5d8989c72f1/kmc2-0.1.tar.gz (102kB)\n",
            "\u001b[K     |████████████████████████████████| 102kB 2.4MB/s \n",
            "\u001b[?25hRequirement already satisfied: numpy in /usr/local/lib/python3.6/dist-packages (from kmc2) (1.17.4)\n",
            "Requirement already satisfied: scipy in /usr/local/lib/python3.6/dist-packages (from kmc2) (1.3.3)\n",
            "Requirement already satisfied: scikit-learn in /usr/local/lib/python3.6/dist-packages (from kmc2) (0.21.3)\n",
            "Collecting nose\n",
            "\u001b[?25l  Downloading https://files.pythonhosted.org/packages/15/d8/dd071918c040f50fa1cf80da16423af51ff8ce4a0f2399b7bf8de45ac3d9/nose-1.3.7-py3-none-any.whl (154kB)\n",
            "\u001b[K     |████████████████████████████████| 163kB 8.7MB/s \n",
            "\u001b[?25hRequirement already satisfied: joblib>=0.11 in /usr/local/lib/python3.6/dist-packages (from scikit-learn->kmc2) (0.14.1)\n",
            "Building wheels for collected packages: kmc2\n",
            "  Building wheel for kmc2 (setup.py) ... \u001b[?25l\u001b[?25hdone\n",
            "  Created wheel for kmc2: filename=kmc2-0.1-cp36-cp36m-linux_x86_64.whl size=252222 sha256=95dd47f8bdd57b686898f82d4df0f9013960b1995cb22fced74db1ff51ff1afa\n",
            "  Stored in directory: /root/.cache/pip/wheels/5c/ba/f0/4c8b421be72d4f2d1a93233c2f6f591e7d8b0bda05a1f4616f\n",
            "Successfully built kmc2\n",
            "Installing collected packages: nose, kmc2\n",
            "Successfully installed kmc2-0.1 nose-1.3.7\n"
          ],
          "name": "stdout"
        }
      ]
    },
    {
      "cell_type": "code",
      "metadata": {
        "id": "Al3yUva451oA",
        "colab_type": "code",
        "colab": {}
      },
      "source": [
        "\n",
        "import pandas as pd\n",
        "import numpy as np\n",
        "import cv2\n",
        "from sklearn.cluster import KMeans\n",
        "import copy\n",
        "from sklearn.svm import SVC\n",
        "from sklearn import preprocessing\n",
        "from sklearn.model_selection import train_test_split\n",
        "from sklearn.cluster import MiniBatchKMeans\n",
        "from sklearn.model_selection import GridSearchCV\n",
        "import scipy.cluster.vq as vq\n",
        "import kmc2"
      ],
      "execution_count": 0,
      "outputs": []
    },
    {
      "cell_type": "code",
      "metadata": {
        "id": "kSzm15ET51qU",
        "colab_type": "code",
        "outputId": "e7e1e64b-e456-4f03-adf7-7d3eb293565a",
        "colab": {
          "base_uri": "https://localhost:8080/",
          "height": 287
        }
      },
      "source": [
        "labelll=pd.read_csv('../content/input/Label2Names.csv')\n",
        "labelll.loc[100] = ['1', 'Faces']\n",
        "labelll.loc[101] = ['102', 'BACKGROUND_Google']\n",
        "\n",
        "print(labelll.iloc[0][1])\n",
        "print(labelll)"
      ],
      "execution_count": 9,
      "outputs": [
        {
          "output_type": "stream",
          "text": [
            "Faces_easy\n",
            "       1              Faces\n",
            "0      2         Faces_easy\n",
            "1      3           Leopards\n",
            "2      4         Motorbikes\n",
            "3      5          accordion\n",
            "4      6          airplanes\n",
            "..   ...                ...\n",
            "97    99      windsor_chair\n",
            "98   100             wrench\n",
            "99   101           yin_yang\n",
            "100    1              Faces\n",
            "101  102  BACKGROUND_Google\n",
            "\n",
            "[102 rows x 2 columns]\n"
          ],
          "name": "stdout"
        }
      ]
    },
    {
      "cell_type": "code",
      "metadata": {
        "id": "hT-Q9pZV51sh",
        "colab_type": "code",
        "outputId": "032dfcbc-4cb7-4c6c-ff4f-a2b2d18b0a3c",
        "colab": {
          "base_uri": "https://localhost:8080/",
          "height": 71
        }
      },
      "source": [
        "#데이터 로드\n",
        "\n",
        "\n",
        "data1 = ('../content/input/train')\n",
        "data2 = ('../content/input/testAll_v2')\n",
        "\n",
        "train_data = list()\n",
        "train_name = list()\n",
        "test_data = list()\n",
        "\n",
        "namefile = os.listdir(data1)\n",
        "testimgfile = os.listdir(data2)\n",
        "testimgfile.sort()\n",
        "\n",
        "#train\n",
        "for file in namefile:\n",
        "  imgfile = os.listdir(data1 + '/' + file)\n",
        "  \n",
        "  #(라벨링)\n",
        "  for i in range (0,102):\n",
        "    if (file == labelll.iloc[i][1]):\n",
        "      label = labelll.iloc[i][0] #백그라운드 제외\n",
        "\n",
        "  for img in imgfile:\n",
        "    if (label == '102'):\n",
        "      print(\"OK\")\n",
        "      break\n",
        "    image = cv2.imread(data1 + '/' + file + '/' + img)\n",
        "    image = cv2.cvtColor(image, cv2.COLOR_BGR2GRAY)\n",
        "    image = cv2.resize(image, (256,256), interpolation = cv2.INTER_LINEAR)\n",
        "    train_data.append(image)\n",
        "    train_name.append(label)\n",
        "\n",
        "train_data = np.array(train_data)\n",
        "train_name = np.array(train_name)\n",
        "\n",
        "\n",
        "#test\n",
        "for img in testimgfile:\n",
        "    image = cv2.imread(data2 + '/' + img)\n",
        "    image = cv2.cvtColor(image, cv2.COLOR_BGR2GRAY)\n",
        "    image = cv2.resize(image, (256,256), interpolation = cv2.INTER_LINEAR)\n",
        "    test_data.append(image)\n",
        "\n",
        "test_data = np.array(test_data)\n",
        "\n",
        "\n",
        "print(train_data.shape)  #( , 100, 200)\n",
        "print(train_name)\n",
        "\n",
        "\n"
      ],
      "execution_count": 10,
      "outputs": [
        {
          "output_type": "stream",
          "text": [
            "OK\n",
            "(3030, 256, 256)\n",
            "['58' '58' '58' ... '63' '63' '63']\n"
          ],
          "name": "stdout"
        }
      ]
    },
    {
      "cell_type": "code",
      "metadata": {
        "id": "0cb70psD8CY_",
        "colab_type": "code",
        "colab": {}
      },
      "source": [
        "def computeSIFT(data):\n",
        "    x = []\n",
        "    for i in range(0, len(data)):\n",
        "        sift = cv2.xfeatures2d.SIFT_create()\n",
        "        img = data[i]\n",
        "        step_size = 8\n",
        "        kp = [cv2.KeyPoint(x, y, step_size) for x in range(0, img.shape[0], step_size) for y in range(0, img.shape[1], step_size)]\n",
        "        dense_feat = sift.compute(img, kp)\n",
        "        x.append(dense_feat[1])\n",
        "        \n",
        "    return x\n",
        "\n",
        "# extract dense sift features from training images\n",
        "x_train = computeSIFT(train_data)\n",
        "x_test = computeSIFT(test_data)\n",
        "\n",
        "all_train_desc = []\n",
        "for i in range(len(x_train)):\n",
        "    for j in range(x_train[i].shape[0]):\n",
        "        all_train_desc.append(x_train[i][j,:])\n",
        "\n",
        "all_train_desc = np.array(all_train_desc)"
      ],
      "execution_count": 0,
      "outputs": []
    },
    {
      "cell_type": "code",
      "metadata": {
        "id": "2JetGHur64B_",
        "colab_type": "code",
        "colab": {
          "base_uri": "https://localhost:8080/",
          "height": 35
        },
        "outputId": "005583eb-c7c5-4224-d2cd-554b8d604af7"
      },
      "source": [
        "print(x_train[7].shape)"
      ],
      "execution_count": 12,
      "outputs": [
        {
          "output_type": "stream",
          "text": [
            "(1024, 128)\n"
          ],
          "name": "stdout"
        }
      ]
    },
    {
      "cell_type": "code",
      "metadata": {
        "id": "QBkfkJcmCt1C",
        "colab_type": "code",
        "colab": {}
      },
      "source": [
        "def build_codebook(X, voc_size):\n",
        "   \n",
        "    features = np.vstack((descriptor for descriptor in X))\n",
        "    seeding = kmc2.kmc2(features, voc_size)\n",
        "    kmeans = MiniBatchKMeans(n_clusters=voc_size, init=seeding).fit(features)\n",
        "    codebook = kmeans.cluster_centers_.squeeze()\n",
        "    return codebook"
      ],
      "execution_count": 0,
      "outputs": []
    },
    {
      "cell_type": "code",
      "metadata": {
        "id": "UnHjSuliC4Hn",
        "colab_type": "code",
        "colab": {
          "base_uri": "https://localhost:8080/",
          "height": 145
        },
        "outputId": "e6dc2809-4479-463b-e168-5361ae49674b"
      },
      "source": [
        "codebook = build_codebook(all_train_desc, 800)"
      ],
      "execution_count": 0,
      "outputs": [
        {
          "output_type": "stream",
          "text": [
            "/usr/local/lib/python3.6/dist-packages/ipykernel_launcher.py:3: FutureWarning: arrays to stack must be passed as a \"sequence\" type such as list or tuple. Support for non-sequence iterables such as generators is deprecated as of NumPy 1.16 and will raise an error in the future.\n",
            "  This is separate from the ipykernel package so we can avoid doing imports until\n",
            "/usr/local/lib/python3.6/dist-packages/ipykernel_launcher.py:5: RuntimeWarning: Explicit initial center position passed: performing only one init in MiniBatchKMeans instead of n_init=3\n",
            "  \"\"\"\n",
            "/usr/local/lib/python3.6/dist-packages/sklearn/cluster/k_means_.py:1561: RuntimeWarning: init_size=300 should be larger than k=800. Setting it to 3*k\n",
            "  init_size=init_size)\n"
          ],
          "name": "stderr"
        }
      ]
    },
    {
      "cell_type": "code",
      "metadata": {
        "id": "Z5pTYSE2yxYY",
        "colab_type": "code",
        "colab": {}
      },
      "source": [
        "\n",
        "\n",
        "\n",
        "def build_spatial_pyramid(image, descriptor, level):\n",
        "  \n",
        "    step_size = 8\n",
        "   \n",
        "    height = int(image.shape[0] / step_size)\n",
        "    width = int(image.shape[1] / step_size)\n",
        "\n",
        "    idx_crop = np.array(range(len(descriptor))).reshape(height,width)\n",
        "    size = idx_crop.itemsize\n",
        "\n",
        "   \n",
        "    bh, bw = 2**(5-level), 2**(5-level)\n",
        "    shape = (int(height/bh), int(width/bw), bh, bw)\n",
        "    strides = size * np.array([width*bh, bw, width, 1])\n",
        "\n",
        "    crops = np.lib.stride_tricks.as_strided(idx_crop, shape=shape, strides=strides)\n",
        "\n",
        "    des_idxs = [col_block.flatten().tolist() for row_block in crops for col_block in row_block]\n",
        "\n",
        "    pyramid = []\n",
        "    for idxs in des_idxs:\n",
        "        pyramid.append(np.asarray([descriptor[idx] for idx in idxs]))\n",
        "    return pyramid\n",
        "\n",
        "def spatial_pyramid_matching(image, descriptor, codebook, level):\n",
        "    pyramid = []\n",
        "    if level == 0:\n",
        "        pyramid += build_spatial_pyramid(image, descriptor, level=0)\n",
        "        code = [input_vector_encoder(crop, codebook) for crop in pyramid]\n",
        "        return np.asarray(code).flatten()\n",
        "    if level == 1:\n",
        "        pyramid += build_spatial_pyramid(image, descriptor, level=0)\n",
        "        pyramid += build_spatial_pyramid(image, descriptor, level=1)\n",
        "        code = [input_vector_encoder(crop, codebook) for crop in pyramid]\n",
        "        code_level_0 = 0.5 * np.asarray(code[0]).flatten()\n",
        "        code_level_1 = 0.5 * np.asarray(code[1:]).flatten()\n",
        "        return np.concatenate((code_level_0, code_level_1))\n",
        "    if level == 2:\n",
        "        pyramid += build_spatial_pyramid(image, descriptor, level=0)\n",
        "        pyramid += build_spatial_pyramid(image, descriptor, level=1)\n",
        "        pyramid += build_spatial_pyramid(image, descriptor, level=2)\n",
        "        code = [input_vector_encoder(crop, codebook) for crop in pyramid]\n",
        "        code_level_0 = 0.25 * np.asarray(code[0]).flatten()\n",
        "        code_level_1 = 0.25 * np.asarray(code[1:5]).flatten()\n",
        "        code_level_2 = 0.5 * np.asarray(code[5:]).flatten()\n",
        "        return np.concatenate((code_level_0, code_level_1, code_level_2))\n",
        "\n",
        "def input_vector_encoder(feature, codebook):\n",
        "   \n",
        "    code, _ = vq.vq(feature, codebook)\n",
        "    word_hist, bin_edges = np.histogram(code, bins=range(codebook.shape[0] + 1), normed=True)\n",
        "    return word_hist\n",
        "\n",
        "\n",
        "\n"
      ],
      "execution_count": 0,
      "outputs": []
    },
    {
      "cell_type": "code",
      "metadata": {
        "id": "nxtv-L17zEwR",
        "colab_type": "code",
        "colab": {
          "base_uri": "https://localhost:8080/",
          "height": 55
        },
        "outputId": "c0dc13bf-a39a-4fbb-f6bb-0fb92e9302da"
      },
      "source": [
        "x_train = [spatial_pyramid_matching(train_data[i],x_train[i], codebook, level=2) for i in range(len(train_data))]\n",
        "\n",
        "x_test = [spatial_pyramid_matching(test_data[i], x_test[i], codebook, level=2) for i in range(len(test_data))]\n",
        "\n",
        "\n",
        "x_train = np.asarray(x_train)\n",
        "x_test = np.asarray(x_test)\n",
        "\n"
      ],
      "execution_count": 16,
      "outputs": [
        {
          "output_type": "stream",
          "text": [
            "/usr/local/lib/python3.6/dist-packages/ipykernel_launcher.py:57: VisibleDeprecationWarning: Passing `normed=True` on non-uniform bins has always been broken, and computes neither the probability density function nor the probability mass function. The result is only correct if the bins are uniform, when density=True will produce the same result anyway. The argument will be removed in a future version of numpy.\n"
          ],
          "name": "stderr"
        }
      ]
    },
    {
      "cell_type": "code",
      "metadata": {
        "id": "DHz-nqquRFR4",
        "colab_type": "code",
        "colab": {}
      },
      "source": [
        "def histogramIntersection(M, N):\n",
        "    m = M.shape[0]\n",
        "    n = N.shape[0]\n",
        "    result = np.zeros((m,n))\n",
        "    for i in range(m):\n",
        "        for j in range(n):\n",
        "            temp = np.sum(np.minimum(M[i], N[j]))\n",
        "            result[i][j] = temp\n",
        "    return result\n",
        "\n",
        "gramMatrix = histogramIntersection(x_train, x_train)\n",
        "cclf = SVC(kernel='precomputed')\n",
        "cclf.fit(gramMatrix, train_name)\n",
        "predictMatrix = histogramIntersection(x_test, x_train)\n",
        "predict = cclf.predict(predictMatrix)"
      ],
      "execution_count": 0,
      "outputs": []
    },
    {
      "cell_type": "markdown",
      "metadata": {
        "id": "k5QreN-p7424",
        "colab_type": "text"
      },
      "source": [
        "############################################################################################"
      ]
    },
    {
      "cell_type": "code",
      "metadata": {
        "id": "TXKOpivt5148",
        "colab_type": "code",
        "outputId": "06d094af-5348-4ee3-d4b2-07dd37913ae9",
        "colab": {
          "base_uri": "https://localhost:8080/",
          "height": 269
        }
      },
      "source": [
        "# numpy 를 Pandas 이용하여 결과 파일로 저장\n",
        "\n",
        "\n",
        "import pandas as pd\n",
        "\n",
        "d = {'Id': testimgfile, 'Category': predict}\n",
        "df = pd.DataFrame(data=d)\n",
        "\n",
        "print(df)"
      ],
      "execution_count": 25,
      "outputs": [
        {
          "output_type": "stream",
          "text": [
            "                  Id Category\n",
            "0     image_0001.jpg       45\n",
            "1     image_0002.jpg       89\n",
            "2     image_0003.jpg        7\n",
            "3     image_0004.jpg       34\n",
            "4     image_0005.jpg       14\n",
            "...              ...      ...\n",
            "1687  image_1688.jpg       27\n",
            "1688  image_1689.jpg       61\n",
            "1689  image_1690.jpg       29\n",
            "1690  image_1691.jpg       38\n",
            "1691  image_1692.jpg       35\n",
            "\n",
            "[1692 rows x 2 columns]\n"
          ],
          "name": "stdout"
        }
      ]
    },
    {
      "cell_type": "code",
      "metadata": {
        "id": "gSBw1l1I517v",
        "colab_type": "code",
        "colab": {}
      },
      "source": [
        "df.to_csv('sohyeon_project.csv',index=False, header=True)"
      ],
      "execution_count": 0,
      "outputs": []
    },
    {
      "cell_type": "code",
      "metadata": {
        "id": "JRwkYa_n5195",
        "colab_type": "code",
        "outputId": "292b9f70-872f-41cd-8f20-e70a2170cfc9",
        "colab": {
          "base_uri": "https://localhost:8080/",
          "height": 53
        }
      },
      "source": [
        "! kaggle competitions submit -c 2019-ml-finalproject -f sohyeon_project.csv -m \"BaekSohyeon\" "
      ],
      "execution_count": 27,
      "outputs": [
        {
          "output_type": "stream",
          "text": [
            "100% 29.6k/29.6k [00:00<00:00, 102kB/s]\n",
            "Successfully submitted to 2019.Fall.PatternRecognition "
          ],
          "name": "stdout"
        }
      ]
    },
    {
      "cell_type": "markdown",
      "metadata": {
        "id": "UZEck92rYz8P",
        "colab_type": "text"
      },
      "source": [
        "0.31914\n",
        "\n",
        "\n",
        "*   스텝15\n",
        "*   kmeans빠르게\n",
        "* SPM 없음\n",
        "\n"
      ]
    },
    {
      "cell_type": "code",
      "metadata": {
        "id": "3y6Inu5-52Af",
        "colab_type": "code",
        "colab": {}
      },
      "source": [
        ""
      ],
      "execution_count": 0,
      "outputs": []
    },
    {
      "cell_type": "markdown",
      "metadata": {
        "id": "QZ7ZOoKWZHq4",
        "colab_type": "text"
      },
      "source": [
        "베이스\n",
        "\n",
        "*   항목 추가\n",
        "*   항목 추가\n",
        "\n"
      ]
    }
  ]
}